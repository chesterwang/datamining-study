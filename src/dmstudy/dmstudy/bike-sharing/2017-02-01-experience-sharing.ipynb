{
 "cells": [
  {
   "cell_type": "markdown",
   "metadata": {},
   "source": [
    "# experience sharing\n",
    "\n",
    "# toc\n",
    "- [2016-10-25-train_predict](#2016-10-25-train_predict)\n"
   ]
  },
  {
   "cell_type": "markdown",
   "metadata": {},
   "source": [
    "# 2016-10-25-train_predict\n",
    "\n",
    "\n",
    "### 脏数据处理\n",
    "- 湿度小于17的数据全部去除\n",
    "\n",
    "### 特征转换\n",
    "- 季节(1/2/3/4)\n",
    "- 是否节假日(0/1)\n",
    "- 是否工作日(0/1)\n",
    "- 天气\n",
    "- 温度\n",
    "- atemp温度\n",
    "- 湿度\n",
    "- 风速\n",
    "- 小时(0/1/2../23)\n",
    "- 周几(0/1/2../6)\n",
    "- 月份(1-12)\n",
    "- hour_workingday_idx 小时(0/1/2../23)和是否工作日(0/1)的叉乘\n",
    "- hour_holiday_idx 小时(0/1/2../23)和是否节假日(0/1)的叉乘\n",
    "- hour_weekday_idx 小时(0/1/2../23)和周几(0/1/2../6)的叉乘\n",
    "- hour_lookup_count 每个小时的count均值替代\n",
    "- hour_workingday_idx_count  hour_workingday_idx的均值替代\n",
    "- hour_holiday_idx_count hour_holiday_idx_count的均值替代\n",
    "- hour_weekday_idx_count hour_weekday_idx_count的均值替代\n",
    "- hour_month_idx_count hour_month_idx_count的均值替代\n",
    "- hour_holiday_idx_count_log hour_holiday_idx_count的log\n",
    "- hour_workingday_idx_count hour_workingday_idx的均值替代\n",
    "- discretize(df,\"hour\") hour离散化\n",
    "- temp_int 温度取整\n",
    "- discretize(df,\"temp_int\") 温度取整离散化\n",
    "\n",
    "### 模型训练\n",
    "- 五折交叉验证\n",
    "- 使用模型\n",
    "    - \"dtree\":tree.DecisionTreeRegressor(max_depth=10),\n",
    "    - \"rf\":es.RandomForestRegressor(n_estimators=100,max_depth=7),\n",
    "    - \"bag\":es.BaggingRegressor(n_estimators=50),\n",
    "    - \"gb\":es.GradientBoostingRegressor(n_estimators=100),\n"
   ]
  },
  {
   "cell_type": "code",
   "execution_count": null,
   "metadata": {
    "collapsed": true
   },
   "outputs": [],
   "source": []
  }
 ],
 "metadata": {
  "kernelspec": {
   "display_name": "Python 2",
   "language": "python",
   "name": "python2"
  },
  "language_info": {
   "codemirror_mode": {
    "name": "ipython",
    "version": 2
   },
   "file_extension": ".py",
   "mimetype": "text/x-python",
   "name": "python",
   "nbconvert_exporter": "python",
   "pygments_lexer": "ipython2",
   "version": "2.7.10"
  }
 },
 "nbformat": 4,
 "nbformat_minor": 0
}
