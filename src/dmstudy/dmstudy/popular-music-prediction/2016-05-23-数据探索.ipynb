{
 "cells": [
  {
   "cell_type": "code",
   "execution_count": 1,
   "metadata": {
    "collapsed": false
   },
   "outputs": [],
   "source": [
    "import pandas as pd\n",
    "import numpy as np\n",
    "%matplotlib inline\n",
    "from datetime import datetime\n",
    "from datetime import timedelta\n",
    "from sklearn import linear_model"
   ]
  },
  {
   "cell_type": "code",
   "execution_count": 2,
   "metadata": {
    "collapsed": false
   },
   "outputs": [],
   "source": [
    "#设定日期解析函数\n",
    "dt_parser = lambda x: datetime.strptime(x,\"%Y%m%d\")"
   ]
  },
  {
   "cell_type": "code",
   "execution_count": 3,
   "metadata": {
    "collapsed": false,
    "scrolled": true
   },
   "outputs": [
    {
     "data": {
      "text/html": [
       "<div style=\"max-height:1000px;max-width:1500px;overflow:auto;\">\n",
       "<table border=\"1\" class=\"dataframe\">\n",
       "  <thead>\n",
       "    <tr style=\"text-align: right;\">\n",
       "      <th></th>\n",
       "      <th>gmt_create</th>\n",
       "      <th>action_type</th>\n",
       "    </tr>\n",
       "  </thead>\n",
       "  <tbody>\n",
       "    <tr>\n",
       "      <th>count</th>\n",
       "      <td> 1.588409e+07</td>\n",
       "      <td> 15884087.000000</td>\n",
       "    </tr>\n",
       "    <tr>\n",
       "      <th>mean</th>\n",
       "      <td> 1.433411e+09</td>\n",
       "      <td>        1.158738</td>\n",
       "    </tr>\n",
       "    <tr>\n",
       "      <th>std</th>\n",
       "      <td> 4.496425e+06</td>\n",
       "      <td>        0.390874</td>\n",
       "    </tr>\n",
       "    <tr>\n",
       "      <th>min</th>\n",
       "      <td> 1.425139e+09</td>\n",
       "      <td>        1.000000</td>\n",
       "    </tr>\n",
       "    <tr>\n",
       "      <th>25%</th>\n",
       "      <td> 1.429582e+09</td>\n",
       "      <td>        1.000000</td>\n",
       "    </tr>\n",
       "    <tr>\n",
       "      <th>50%</th>\n",
       "      <td> 1.433513e+09</td>\n",
       "      <td>        1.000000</td>\n",
       "    </tr>\n",
       "    <tr>\n",
       "      <th>75%</th>\n",
       "      <td> 1.437332e+09</td>\n",
       "      <td>        1.000000</td>\n",
       "    </tr>\n",
       "    <tr>\n",
       "      <th>max</th>\n",
       "      <td> 1.440947e+09</td>\n",
       "      <td>        3.000000</td>\n",
       "    </tr>\n",
       "  </tbody>\n",
       "</table>\n",
       "</div>"
      ],
      "text/plain": [
       "         gmt_create      action_type\n",
       "count  1.588409e+07  15884087.000000\n",
       "mean   1.433411e+09         1.158738\n",
       "std    4.496425e+06         0.390874\n",
       "min    1.425139e+09         1.000000\n",
       "25%    1.429582e+09         1.000000\n",
       "50%    1.433513e+09         1.000000\n",
       "75%    1.437332e+09         1.000000\n",
       "max    1.440947e+09         3.000000"
      ]
     },
     "execution_count": 3,
     "metadata": {},
     "output_type": "execute_result"
    }
   ],
   "source": [
    "#读取用户行为日志user_action, 读取歌曲信息song_info\n",
    "datapath=\"/home/chester/data/2016-06/231531/\"\n",
    "song_info_path = datapath + \"p2_mars_tianchi_songs.csv\"\n",
    "user_action_path = datapath + \"p2_mars_tianchi_user_actions.csv\"\n",
    "song_info = pd.read_csv(song_info_path,sep=\",\",\n",
    "                        names=[\"song_id\",\"artist_id\",\"publish_time\",\"song_init_plays\",\"language\",\"gender\"],\n",
    "                       parse_dates=[\"publish_time\"],date_parser=dt_parser,\n",
    "                       dtype={\"publish_time\":datetime})\n",
    "user_action = pd.read_csv(user_action_path,sep=\",\",\n",
    "                          names=[\"user_id\",\"song_id\",\"gmt_create\",\"action_type\",\"ds\"],\n",
    "                         parse_dates=[\"ds\"],date_parser=dt_parser,\n",
    "                         dtype={\"ds\":datetime})\n",
    "user_action.describe()"
   ]
  },
  {
   "cell_type": "markdown",
   "metadata": {
    "collapsed": false
   },
   "source": [
    "### 歌曲的特征\n",
    "- 艺人(太多)\n",
    "- 发布时间距现在的时间长度\n",
    "- 语言\n",
    "- 性别\n",
    "- 昨日的播放量\n",
    "- 一周的播放量\n",
    "- 过去一周的每日平均涨幅\n",
    "- holt winters算法\n",
    "- 艺人最相似的几个艺人的歌曲总体涨落\n",
    "- 歌曲的艺人的总体涨落\n",
    "- 需不需要做log处理"
   ]
  },
  {
   "cell_type": "code",
   "execution_count": 4,
   "metadata": {
    "collapsed": false
   },
   "outputs": [],
   "source": [
    "#统计song每日的播放量 song_daily_play_counts\n",
    "song_daily_base = pd.DataFrame(song_info.song_id)\n",
    "date_seq = [ts for ts in pd.date_range('20150301', periods=183, freq='D').tolist()]\n",
    "song_daily_play_counts = pd.DataFrame()\n",
    "for tmpds in date_seq:\n",
    "    tmpdf = user_action[user_action.ds==tmpds].groupby(\"song_id\",as_index=False)[\"ds\"].agg({\"play_count\":\"count\"})\n",
    "    tmpdf2 =  pd.merge(song_daily_base,tmpdf,on=[\"song_id\"],how=\"left\")\n",
    "    tmpdf2[\"ds\"] = tmpds\n",
    "    song_daily_play_counts=  song_daily_play_counts.append(tmpdf2)\n",
    "song_daily_play_counts.fillna(0,inplace=True)"
   ]
  },
  {
   "cell_type": "code",
   "execution_count": 5,
   "metadata": {
    "collapsed": false
   },
   "outputs": [],
   "source": [
    "#读取静态信息,并添加每日播放数，发布时间之久两个特征，存储到song_features\n",
    "song_features=pd.merge(song_daily_play_counts,song_info, on=[\"song_id\"])\n",
    "song_features[\"publish_diff\"]=(song_features.ds - song_features.publish_time).apply(lambda x:pd.to_timedelta(x).days)\n"
   ]
  },
  {
   "cell_type": "code",
   "execution_count": 6,
   "metadata": {
    "collapsed": false,
    "scrolled": false
   },
   "outputs": [],
   "source": [
    "#生成一个历史的DF,song_ds_cnt，存储当前的前一天的歌曲播放数\n",
    "song_ds_cnt = user_action.groupby([\"song_id\",\"ds\"],as_index=False)[\"user_id\"].agg({\"cnt\":\"count\"})\n",
    "song_ds_cnt[\"today\"] = song_ds_cnt.ds + timedelta(days=60)\n"
   ]
  },
  {
   "cell_type": "code",
   "execution_count": 7,
   "metadata": {
    "collapsed": false
   },
   "outputs": [],
   "source": [
    "#根据歌曲静态信息song_features和每日的动态特征song_ds_cnt来生成最终的特征组\n",
    "song_features = pd.merge(song_features,song_ds_cnt[[\"song_id\",\"today\",\"cnt\"]],\n",
    "                         left_on=[\"song_id\",\"ds\"],right_on=[\"song_id\",\"today\"],\n",
    "                        how=\"left\")\n",
    "del song_features[\"today\"]\n",
    "song_features.rename(columns={'cnt': 'yesterday_cnt'}, inplace=True)\n",
    "song_features[\"yesterday_cnt\"] = song_features[\"yesterday_cnt\"].fillna(0)"
   ]
  },
  {
   "cell_type": "code",
   "execution_count": 8,
   "metadata": {
    "collapsed": false
   },
   "outputs": [],
   "source": [
    "\n",
    "#msk = np.random.rand(len(song_features)) < 0.8\n",
    "#train=song_features[msk]\n",
    "#test=song_features[~msk]\n",
    "\n",
    "train = song_features[song_features.ds<\"2015-09-01\"]\n",
    "\n"
   ]
  },
  {
   "cell_type": "code",
   "execution_count": 9,
   "metadata": {
    "collapsed": false
   },
   "outputs": [],
   "source": [
    "clf = linear_model.Ridge(alpha = .5)\n",
    "clf.fit (train[[\"song_init_plays\",\"language\",\"gender\",\"publish_diff\",\"yesterday_cnt\"]].values,\n",
    "             train[\"play_count\"].values)\n",
    "#LinearRegression(copy_X=True, fit_intercept=True, n_jobs=1, normalize=False)\n",
    "coef=clf.coef_"
   ]
  },
  {
   "cell_type": "code",
   "execution_count": 10,
   "metadata": {
    "collapsed": false
   },
   "outputs": [
    {
     "ename": "NameError",
     "evalue": "name 'test' is not defined",
     "output_type": "error",
     "traceback": [
      "\u001b[1;31m---------------------------------------------------------------------------\u001b[0m",
      "\u001b[1;31mNameError\u001b[0m                                 Traceback (most recent call last)",
      "\u001b[1;32m<ipython-input-10-ed7766701e59>\u001b[0m in \u001b[0;36m<module>\u001b[1;34m()\u001b[0m\n\u001b[1;32m----> 1\u001b[1;33m \u001b[0mpredict\u001b[0m \u001b[1;33m=\u001b[0m \u001b[0mnp\u001b[0m\u001b[1;33m.\u001b[0m\u001b[0mmatrix\u001b[0m\u001b[1;33m(\u001b[0m\u001b[0mtest\u001b[0m\u001b[1;33m[\u001b[0m\u001b[1;33m[\u001b[0m\u001b[1;34m\"song_init_plays\"\u001b[0m\u001b[1;33m,\u001b[0m\u001b[1;34m\"language\"\u001b[0m\u001b[1;33m,\u001b[0m\u001b[1;34m\"gender\"\u001b[0m\u001b[1;33m,\u001b[0m\u001b[1;34m\"publish_diff\"\u001b[0m\u001b[1;33m,\u001b[0m\u001b[1;34m\"yesterday_cnt\"\u001b[0m\u001b[1;33m]\u001b[0m\u001b[1;33m]\u001b[0m\u001b[1;33m.\u001b[0m\u001b[0mvalues\u001b[0m\u001b[1;33m)\u001b[0m\u001b[1;33m*\u001b[0m\u001b[1;33m[\u001b[0m\u001b[1;33m[\u001b[0m\u001b[0mx\u001b[0m\u001b[1;33m]\u001b[0m \u001b[1;32mfor\u001b[0m \u001b[0mx\u001b[0m \u001b[1;32min\u001b[0m \u001b[0mcoef\u001b[0m\u001b[1;33m]\u001b[0m\u001b[1;33m\u001b[0m\u001b[0m\n\u001b[0m\u001b[0;32m      2\u001b[0m \u001b[0mpredict\u001b[0m \u001b[1;33m=\u001b[0m \u001b[1;33m[\u001b[0m\u001b[1;33m[\u001b[0m\u001b[0mx\u001b[0m\u001b[1;33m[\u001b[0m\u001b[1;36m0\u001b[0m\u001b[1;33m]\u001b[0m\u001b[1;33m]\u001b[0m \u001b[1;32mif\u001b[0m \u001b[0mx\u001b[0m\u001b[1;33m[\u001b[0m\u001b[1;36m0\u001b[0m\u001b[1;33m]\u001b[0m\u001b[1;33m>\u001b[0m\u001b[1;36m0\u001b[0m \u001b[1;32melse\u001b[0m \u001b[1;33m[\u001b[0m\u001b[1;36m0\u001b[0m\u001b[1;33m]\u001b[0m \u001b[1;32mfor\u001b[0m \u001b[0mx\u001b[0m \u001b[1;32min\u001b[0m \u001b[0mpredict\u001b[0m\u001b[1;33m]\u001b[0m\u001b[1;33m\u001b[0m\u001b[0m\n",
      "\u001b[1;31mNameError\u001b[0m: name 'test' is not defined"
     ]
    }
   ],
   "source": [
    "predict = np.matrix(test[[\"song_init_plays\",\"language\",\"gender\",\"publish_diff\",\"yesterday_cnt\"]].values)*[[x] for x in coef]\n",
    "predict = [[x[0]] if x[0]>0 else [0] for x in predict]"
   ]
  },
  {
   "cell_type": "code",
   "execution_count": null,
   "metadata": {
    "collapsed": false,
    "scrolled": false
   },
   "outputs": [],
   "source": [
    "test[\"predict_play_count\"] = [round(x[0]) for x in predict]"
   ]
  },
  {
   "cell_type": "code",
   "execution_count": null,
   "metadata": {
    "collapsed": false
   },
   "outputs": [],
   "source": [
    "test[test[\"predict_play_count\"]<0]"
   ]
  },
  {
   "cell_type": "code",
   "execution_count": null,
   "metadata": {
    "collapsed": false
   },
   "outputs": [],
   "source": [
    "artist_play_count = test.groupby([\"artist_id\",\"ds\"],as_index=False)[\"play_count\"].agg({\"cnt\":\"sum\"})\n",
    "artist_play_count = artist_play_count[artist_play_count.cnt != 0]\n",
    "predict_artist_play_count = test.groupby([\"artist_id\",\"ds\"],as_index=False)[\"predict_play_count\"].agg({\"cnt\":\"sum\"})\n",
    "old_predict = pd.merge(artist_play_count,predict_artist_play_count,on=[\"artist_id\",\"ds\"])\n",
    "old_predict[\"diff_sq\"] = ((old_predict[\"cnt_y\"]-old_predict[\"cnt_x\"])/old_predict[\"cnt_x\"])**2\n",
    "tmp_df=old_predict.groupby([\"artist_id\"],as_index=False).agg({\"ds\":\"count\",\"diff_sq\":\"sum\"})\n",
    "artist_play_count = test.groupby([\"artist_id\"],as_index=False)[\"play_count\"].agg({\"cnt\":\"sum\"})\n",
    "final_data = pd.merge(tmp_df,artist_play_count[[\"artist_id\",\"cnt\"]],on=[\"artist_id\"])\n",
    "sigma=final_data[\"cnt\"]**0.5 *( 1- (final_data[\"diff_sq\"]/final_data[\"ds\"])**0.5)"
   ]
  },
  {
   "cell_type": "code",
   "execution_count": null,
   "metadata": {
    "collapsed": false
   },
   "outputs": [],
   "source": [
    "sigma.sum()"
   ]
  },
  {
   "cell_type": "code",
   "execution_count": 54,
   "metadata": {
    "collapsed": false
   },
   "outputs": [],
   "source": [
    "#预测\n",
    "#song_features[\"publish_diff\"]=(song_features.ds - song_features.publish_time).apply(lambda x:pd.to_timedelta(x).days)\n",
    "\n",
    "#test_song_info存储歌曲在预测时间范围内的静态信息\n",
    "test_song_info = pd.DataFrame()\n",
    "date_seq = [ts for ts in pd.date_range('20150901', periods=60, freq='D').tolist()]\n",
    "\n",
    "for tmpds in date_seq:\n",
    "    tmp_song_info=song_info.copy()\n",
    "    tmp_song_info[\"ds\"] = tmpds\n",
    "    test_song_info=  test_song_info.append(tmp_song_info)\n",
    "test_song_info[\"publish_diff\"]=(test_song_info.ds - test_song_info.publish_time).apply(lambda x:pd.to_timedelta(x).days)\n",
    "\n",
    "#生成一个历史的DF,song_ds_cnt，存储当前的前一天的歌曲播放数,推后60天，以便和预测时间范围内的静态信息进行join\n",
    "song_ds_cnt = user_action.groupby([\"song_id\",\"ds\"],as_index=False)[\"user_id\"].agg({\"cnt\":\"count\"})\n",
    "song_ds_cnt[\"today\"] = song_ds_cnt.ds + timedelta(days=61)\n",
    "\n"
   ]
  },
  {
   "cell_type": "code",
   "execution_count": null,
   "metadata": {
    "collapsed": false
   },
   "outputs": [],
   "source": [
    "sampled_df[[\"song_init_plays\",\"language\",\"gender\",\"publish_diff\",\"yesterday_cnt\"]].values"
   ]
  },
  {
   "cell_type": "code",
   "execution_count": 55,
   "metadata": {
    "collapsed": false
   },
   "outputs": [],
   "source": [
    "test_song_features = pd.merge(test_song_info,song_ds_cnt,left_on=[\"song_id\",\"ds\"],right_on=[\"song_id\",\"today\"])\n",
    "test_song_features[[\"song_init_plays\",\"language\",\"gender\",\"publish_diff\",\"cnt\"]].values\n",
    "\n",
    "predict = np.matrix(test_song_features[[\"song_init_plays\",\"language\",\"gender\",\"publish_diff\",\"cnt\"]].values)*[[x] for x in coef]\n",
    "predict = [[x[0]] if x[0]>0 else [0] for x in predict]\n",
    "\n",
    "#test_song_features[[\"song_init_plays\",\"language\",\"gender\",\"publish_diff\",\"cnt\"]]\n",
    "test_song_features[\"predict_play_count\"] = [round(x[0]) for x in predict]\n",
    "artist_play_count = test_song_features.groupby([\"artist_id\",\"today\"],as_index=False)[\"predict_play_count\"].agg({\"cnt\":\"sum\"})\n"
   ]
  },
  {
   "cell_type": "code",
   "execution_count": 47,
   "metadata": {
    "collapsed": false
   },
   "outputs": [],
   "source": [
    "artist_play_count.to_csv(\"/tmp/a.csv\")"
   ]
  },
  {
   "cell_type": "code",
   "execution_count": 64,
   "metadata": {
    "collapsed": false
   },
   "outputs": [],
   "source": [
    "artist_play_count\n",
    "dt_parser = lambda x: datetime.strftime(x,\"%Y%m%d\")\n",
    "artist_play_count[\"formatds\"] = artist_play_count[\"today\"].apply(dt_parser)\n",
    "artist_play_count[\"cnt\"] = artist_play_count[\"cnt\"].astype(int)\n",
    "artist_play_count[[\"artist_id\",\"cnt\",\"formatds\"]].to_csv(\"/tmp/mars_tianchi_artist_plays_predict.csv\",header=False,index=False)"
   ]
  },
  {
   "cell_type": "code",
   "execution_count": 59,
   "metadata": {
    "collapsed": false
   },
   "outputs": [],
   "source": []
  },
  {
   "cell_type": "code",
   "execution_count": 12,
   "metadata": {
    "collapsed": false
   },
   "outputs": [
    {
     "data": {
      "text/plain": [
       "datetime.datetime(2016, 5, 1, 0, 0)"
      ]
     },
     "execution_count": 12,
     "metadata": {},
     "output_type": "execute_result"
    }
   ],
   "source": []
  },
  {
   "cell_type": "code",
   "execution_count": null,
   "metadata": {
    "collapsed": true
   },
   "outputs": [],
   "source": []
  }
 ],
 "metadata": {
  "kernelspec": {
   "display_name": "Python 2",
   "language": "python",
   "name": "python2"
  },
  "language_info": {
   "codemirror_mode": {
    "name": "ipython",
    "version": 2
   },
   "file_extension": ".py",
   "mimetype": "text/x-python",
   "name": "python",
   "nbconvert_exporter": "python",
   "pygments_lexer": "ipython2",
   "version": "2.7.10"
  }
 },
 "nbformat": 4,
 "nbformat_minor": 0
}
